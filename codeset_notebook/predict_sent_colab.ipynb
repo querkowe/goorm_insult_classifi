{
 "cells": [
  {
   "cell_type": "code",
   "execution_count": null,
   "id": "d46f710f",
   "metadata": {},
   "outputs": [],
   "source": [
    "!pip install torch"
   ]
  },
  {
   "cell_type": "code",
   "execution_count": null,
   "id": "9d44c44c",
   "metadata": {},
   "outputs": [],
   "source": [
    "!pip install transformers==4.24.0"
   ]
  },
  {
   "cell_type": "code",
   "execution_count": null,
   "id": "0d1a7f87",
   "metadata": {},
   "outputs": [],
   "source": [
    "import torch\n",
    "import transformers\n",
    "from transformers import AutoTokenizer\n",
    "\n",
    "from google.colab import drive\n",
    "drive.mount('/content/drive')\n",
    "\n",
    "device = torch.device('cuda:0' if torch.cuda.is_available() else 'cpu')\n",
    "print(\"device:\", device)"
   ]
  },
  {
   "cell_type": "code",
   "execution_count": null,
   "id": "42c5537e",
   "metadata": {},
   "outputs": [],
   "source": [
    "# 토크나이저\n",
    "MODEL_NAME = \"beomi/KcELECTRA-base\"\n",
    "tokenizer = AutoTokenizer.from_pretrained(MODEL_NAME)"
   ]
  },
  {
   "cell_type": "code",
   "execution_count": null,
   "id": "6a6f7b87",
   "metadata": {},
   "outputs": [],
   "source": [
    "#load model\n",
    "model = torch.load('/content/drive/MyDrive/colab_data/kcelectra_trained_model.pt',map_location=device)\n",
    "model.eval()"
   ]
  },
  {
   "cell_type": "code",
   "execution_count": null,
   "id": "f486dd87",
   "metadata": {},
   "outputs": [],
   "source": [
    "def predict_sent(sent,model,tokenizer):\n",
    "    \n",
    "    # 입력된 문장 토크나이징\n",
    "    tokenized_sent = tokenizer(\n",
    "        sent,\n",
    "        return_tensors=\"pt\",\n",
    "        truncation=True,\n",
    "        add_special_tokens=True,\n",
    "        max_length=128\n",
    "    )\n",
    "\n",
    "    # 모델이 위치한 GPU로 이동 \n",
    "    tokenized_sent.to(device)\n",
    "\n",
    "    # 예측\n",
    "    with torch.no_grad():\n",
    "        outputs = model(\n",
    "            input_ids=tokenized_sent[\"input_ids\"],\n",
    "            attention_mask=tokenized_sent[\"attention_mask\"],\n",
    "            token_type_ids=tokenized_sent[\"token_type_ids\"]\n",
    "            )\n",
    "\n",
    "    # 결과 return\n",
    "    logits = outputs[0]\n",
    "    \n",
    "    logits = logits.detach().cpu()\n",
    "    result = logits.argmax(-1)\n",
    "    if result == 0:\n",
    "        result = \" >> 악성댓글 👿\"\n",
    "    elif result == 1:\n",
    "        result = \" >> 정상댓글 😀\"\n",
    "        \n",
    "    return result"
   ]
  },
  {
   "cell_type": "code",
   "execution_count": null,
   "id": "7ddd4755",
   "metadata": {},
   "outputs": [],
   "source": [
    "sent = input()"
   ]
  },
  {
   "cell_type": "code",
   "execution_count": null,
   "id": "8f80d743",
   "metadata": {},
   "outputs": [],
   "source": [
    "predict_sent(sent,model,tokenizer)"
   ]
  }
 ],
 "metadata": {
  "kernelspec": {
   "display_name": "Python 3",
   "language": "python",
   "name": "python3"
  },
  "language_info": {
   "codemirror_mode": {
    "name": "ipython",
    "version": 3
   },
   "file_extension": ".py",
   "mimetype": "text/x-python",
   "name": "python",
   "nbconvert_exporter": "python",
   "pygments_lexer": "ipython3",
   "version": "3.8.8"
  }
 },
 "nbformat": 4,
 "nbformat_minor": 5
}
